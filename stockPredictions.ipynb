{
  "nbformat": 4,
  "nbformat_minor": 0,
  "metadata": {
    "colab": {
      "name": "Untitled2.ipynb",
      "provenance": [],
      "authorship_tag": "ABX9TyOawGI/qEPNrOi5JmlyoYRu",
      "include_colab_link": true
    },
    "kernelspec": {
      "name": "python3",
      "display_name": "Python 3"
    }
  },
  "cells": [
    {
      "cell_type": "markdown",
      "metadata": {
        "id": "view-in-github",
        "colab_type": "text"
      },
      "source": [
        "<a href=\"https://colab.research.google.com/github/yramin/Ansible-NXOS/blob/master/stockPredictions.ipynb\" target=\"_parent\"><img src=\"https://colab.research.google.com/assets/colab-badge.svg\" alt=\"Open In Colab\"/></a>"
      ]
    },
    {
      "cell_type": "code",
      "metadata": {
        "id": "fbfQeA7ckVe2",
        "colab_type": "code",
        "colab": {}
      },
      "source": [
        "# Description:  This program uses an artificial recurrent neural network called Long Short Term Memory (LSTM)\n",
        "#           to predict the closing stock price of a corporation (Apple Inc.) using the past 60 days stock price."
      ],
      "execution_count": 0,
      "outputs": []
    },
    {
      "cell_type": "code",
      "metadata": {
        "id": "jw8C9WJEJjQs",
        "colab_type": "code",
        "colab": {}
      },
      "source": [
        "#Imoprt the libraries\n",
        "import math\n",
        "import pandas_datareader as web\n",
        "import numpy as np\n",
        "import pandas as pd\n",
        "from sklearn.preprocessing import MinMaxScaler\n",
        "from keras.models import Sequential\n",
        "from keras.layers import Dense, LSTM\n",
        "import matplotlib.pyplot as plt\n",
        "plt.style.use('fivethirtyeight')"
      ],
      "execution_count": 0,
      "outputs": []
    },
    {
      "cell_type": "code",
      "metadata": {
        "id": "6CMefKRHKjDa",
        "colab_type": "code",
        "colab": {
          "base_uri": "https://localhost:8080/",
          "height": 450
        },
        "outputId": "748df013-d48b-46c9-b310-af1b6dc5afc1"
      },
      "source": [
        "#Get the stock quote\n",
        "df = web.DataReader('CSCO', data_source='yahoo', start='2012-01-01', end='2020-03-04')\n",
        "#Show the data\n",
        "df"
      ],
      "execution_count": 92,
      "outputs": [
        {
          "output_type": "execute_result",
          "data": {
            "text/html": [
              "<div>\n",
              "<style scoped>\n",
              "    .dataframe tbody tr th:only-of-type {\n",
              "        vertical-align: middle;\n",
              "    }\n",
              "\n",
              "    .dataframe tbody tr th {\n",
              "        vertical-align: top;\n",
              "    }\n",
              "\n",
              "    .dataframe thead th {\n",
              "        text-align: right;\n",
              "    }\n",
              "</style>\n",
              "<table border=\"1\" class=\"dataframe\">\n",
              "  <thead>\n",
              "    <tr style=\"text-align: right;\">\n",
              "      <th></th>\n",
              "      <th>High</th>\n",
              "      <th>Low</th>\n",
              "      <th>Open</th>\n",
              "      <th>Close</th>\n",
              "      <th>Volume</th>\n",
              "      <th>Adj Close</th>\n",
              "    </tr>\n",
              "    <tr>\n",
              "      <th>Date</th>\n",
              "      <th></th>\n",
              "      <th></th>\n",
              "      <th></th>\n",
              "      <th></th>\n",
              "      <th></th>\n",
              "      <th></th>\n",
              "    </tr>\n",
              "  </thead>\n",
              "  <tbody>\n",
              "    <tr>\n",
              "      <th>2012-01-03</th>\n",
              "      <td>18.860001</td>\n",
              "      <td>18.480000</td>\n",
              "      <td>18.549999</td>\n",
              "      <td>18.629999</td>\n",
              "      <td>41236600.0</td>\n",
              "      <td>14.633397</td>\n",
              "    </tr>\n",
              "    <tr>\n",
              "      <th>2012-01-04</th>\n",
              "      <td>19.000000</td>\n",
              "      <td>18.350000</td>\n",
              "      <td>18.440001</td>\n",
              "      <td>18.990000</td>\n",
              "      <td>52927700.0</td>\n",
              "      <td>14.916168</td>\n",
              "    </tr>\n",
              "    <tr>\n",
              "      <th>2012-01-05</th>\n",
              "      <td>19.000000</td>\n",
              "      <td>18.670000</td>\n",
              "      <td>18.930000</td>\n",
              "      <td>18.920000</td>\n",
              "      <td>37865300.0</td>\n",
              "      <td>14.861184</td>\n",
              "    </tr>\n",
              "    <tr>\n",
              "      <th>2012-01-06</th>\n",
              "      <td>19.000000</td>\n",
              "      <td>18.830000</td>\n",
              "      <td>18.950001</td>\n",
              "      <td>18.850000</td>\n",
              "      <td>27796900.0</td>\n",
              "      <td>14.806202</td>\n",
              "    </tr>\n",
              "    <tr>\n",
              "      <th>2012-01-09</th>\n",
              "      <td>19.100000</td>\n",
              "      <td>18.790001</td>\n",
              "      <td>18.870001</td>\n",
              "      <td>18.969999</td>\n",
              "      <td>37811500.0</td>\n",
              "      <td>14.900459</td>\n",
              "    </tr>\n",
              "    <tr>\n",
              "      <th>...</th>\n",
              "      <td>...</td>\n",
              "      <td>...</td>\n",
              "      <td>...</td>\n",
              "      <td>...</td>\n",
              "      <td>...</td>\n",
              "      <td>...</td>\n",
              "    </tr>\n",
              "    <tr>\n",
              "      <th>2020-02-27</th>\n",
              "      <td>42.099998</td>\n",
              "      <td>40.009998</td>\n",
              "      <td>41.279999</td>\n",
              "      <td>40.040001</td>\n",
              "      <td>51442900.0</td>\n",
              "      <td>40.040001</td>\n",
              "    </tr>\n",
              "    <tr>\n",
              "      <th>2020-02-28</th>\n",
              "      <td>40.549999</td>\n",
              "      <td>38.349998</td>\n",
              "      <td>38.700001</td>\n",
              "      <td>39.930000</td>\n",
              "      <td>80194000.0</td>\n",
              "      <td>39.930000</td>\n",
              "    </tr>\n",
              "    <tr>\n",
              "      <th>2020-03-02</th>\n",
              "      <td>41.189999</td>\n",
              "      <td>38.919998</td>\n",
              "      <td>40.150002</td>\n",
              "      <td>41.169998</td>\n",
              "      <td>48864300.0</td>\n",
              "      <td>41.169998</td>\n",
              "    </tr>\n",
              "    <tr>\n",
              "      <th>2020-03-03</th>\n",
              "      <td>41.900002</td>\n",
              "      <td>39.709999</td>\n",
              "      <td>41.259998</td>\n",
              "      <td>40.040001</td>\n",
              "      <td>49281400.0</td>\n",
              "      <td>40.040001</td>\n",
              "    </tr>\n",
              "    <tr>\n",
              "      <th>2020-03-04</th>\n",
              "      <td>41.450001</td>\n",
              "      <td>39.799999</td>\n",
              "      <td>40.720001</td>\n",
              "      <td>41.389999</td>\n",
              "      <td>28382376.0</td>\n",
              "      <td>41.389999</td>\n",
              "    </tr>\n",
              "  </tbody>\n",
              "</table>\n",
              "<p>2055 rows × 6 columns</p>\n",
              "</div>"
            ],
            "text/plain": [
              "                 High        Low       Open      Close      Volume  Adj Close\n",
              "Date                                                                         \n",
              "2012-01-03  18.860001  18.480000  18.549999  18.629999  41236600.0  14.633397\n",
              "2012-01-04  19.000000  18.350000  18.440001  18.990000  52927700.0  14.916168\n",
              "2012-01-05  19.000000  18.670000  18.930000  18.920000  37865300.0  14.861184\n",
              "2012-01-06  19.000000  18.830000  18.950001  18.850000  27796900.0  14.806202\n",
              "2012-01-09  19.100000  18.790001  18.870001  18.969999  37811500.0  14.900459\n",
              "...               ...        ...        ...        ...         ...        ...\n",
              "2020-02-27  42.099998  40.009998  41.279999  40.040001  51442900.0  40.040001\n",
              "2020-02-28  40.549999  38.349998  38.700001  39.930000  80194000.0  39.930000\n",
              "2020-03-02  41.189999  38.919998  40.150002  41.169998  48864300.0  41.169998\n",
              "2020-03-03  41.900002  39.709999  41.259998  40.040001  49281400.0  40.040001\n",
              "2020-03-04  41.450001  39.799999  40.720001  41.389999  28382376.0  41.389999\n",
              "\n",
              "[2055 rows x 6 columns]"
            ]
          },
          "metadata": {
            "tags": []
          },
          "execution_count": 92
        }
      ]
    },
    {
      "cell_type": "code",
      "metadata": {
        "id": "YlSc7TvCLwZX",
        "colab_type": "code",
        "colab": {
          "base_uri": "https://localhost:8080/",
          "height": 34
        },
        "outputId": "d192f9ae-54a8-4a63-e36e-56e3ce23e59c"
      },
      "source": [
        "#Get the number of rows and columns in the data set\n",
        "df.shape"
      ],
      "execution_count": 93,
      "outputs": [
        {
          "output_type": "execute_result",
          "data": {
            "text/plain": [
              "(2055, 6)"
            ]
          },
          "metadata": {
            "tags": []
          },
          "execution_count": 93
        }
      ]
    },
    {
      "cell_type": "code",
      "metadata": {
        "id": "x0piB9b3MFwc",
        "colab_type": "code",
        "colab": {
          "base_uri": "https://localhost:8080/",
          "height": 578
        },
        "outputId": "da3d2e34-b418-4c54-d39d-4ea2f4e98d0d"
      },
      "source": [
        "#Visualize the closing price history \n",
        "plt.figure(figsize=(16,8))\n",
        "plt.title('Close Price History')\n",
        "plt.plot(df['Close'])\n",
        "plt.xlabel('Date', fontsize=18)\n",
        "plt.ylabel('Close Price USD($)', fontsize=18)\n",
        "plt.show()"
      ],
      "execution_count": 94,
      "outputs": [
        {
          "output_type": "display_data",
          "data": {
            "image/png": "[encoded data removed]",
            "text/plain": [
              "<Figure size 1152x576 with 1 Axes>"
            ]
          },
          "metadata": {
            "tags": []
          }
        }
      ]
    },
    {
      "cell_type": "code",
      "metadata": {
        "id": "BIPUrvhsN_Bh",
        "colab_type": "code",
        "colab": {
          "base_uri": "https://localhost:8080/",
          "height": 34
        },
        "outputId": "9133afc9-b118-4733-843b-4cb78f6c97db"
      },
      "source": [
        "#Create a new dataframce with only the 'Close column\n",
        "data = df.filter(['Close'])\n",
        "#Convert the dataframe to a numpy array\n",
        "dataset = data.values\n",
        "#Get the numbr of rows to train the model on\n",
        "training_data_len = math.ceil( len(dataset) * .8)\n",
        "                               \n",
        "training_data_len"
      ],
      "execution_count": 95,
      "outputs": [
        {
          "output_type": "execute_result",
          "data": {
            "text/plain": [
              "1644"
            ]
          },
          "metadata": {
            "tags": []
          },
          "execution_count": 95
        }
      ]
    },
    {
      "cell_type": "code",
      "metadata": {
        "id": "UH0STFO4PVRs",
        "colab_type": "code",
        "colab": {
          "base_uri": "https://localhost:8080/",
          "height": 136
        },
        "outputId": "70e7f1d1-e7ef-4224-a053-53c2d7fa206c"
      },
      "source": [
        "#Scale the data\n",
        "scaler = MinMaxScaler(feature_range=(0,1))\n",
        "scaled_data = scaler.fit_transform(dataset)\n",
        "\n",
        "scaled_data"
      ],
      "execution_count": 96,
      "outputs": [
        {
          "output_type": "execute_result",
          "data": {
            "text/plain": [
              "array([[0.08176099],\n",
              "       [0.09014675],\n",
              "       [0.08851619],\n",
              "       ...,\n",
              "       [0.60680174],\n",
              "       [0.58047988],\n",
              "       [0.61192639]])"
            ]
          },
          "metadata": {
            "tags": []
          },
          "execution_count": 96
        }
      ]
    },
    {
      "cell_type": "code",
      "metadata": {
        "id": "w9gF1CI6Ygi7",
        "colab_type": "code",
        "colab": {
          "base_uri": "https://localhost:8080/",
          "height": 700
        },
        "outputId": "9ab40e78-3245-4115-e73a-7ad29f59dfc3"
      },
      "source": [
        "#Create the training data set\n",
        "#Create the scaled training data set\n",
        "train_data = scaled_data[0:training_data_len , :]\n",
        "#Split the data into x_train and y_train data sets\n",
        "x_train = []\n",
        "y_train = []\n",
        "\n",
        "for i in range(60, len(train_data)):\n",
        "  x_train.append(train_data[i-60:i, 0])\n",
        "  y_train.append(train_data[i, 0])\n",
        "\n",
        "  if i<= 61:\n",
        "    print(x_train)\n",
        "    print(y_train)\n",
        "    print()\n"
      ],
      "execution_count": 97,
      "outputs": [
        {
          "output_type": "stream",
          "text": [
            "[array([0.08176099, 0.09014675, 0.08851619, 0.08688564, 0.08968086,\n",
            "       0.08641976, 0.09201025, 0.09387374, 0.0917773 , 0.09760074,\n",
            "       0.10295833, 0.10878176, 0.11180993, 0.10971349, 0.10948055,\n",
            "       0.10971349, 0.10971349, 0.10342417, 0.10342417, 0.10552061,\n",
            "       0.10901466, 0.10901466, 0.11576987, 0.11809925, 0.11833219,\n",
            "       0.12368974, 0.11367343, 0.11134404, 0.11437225, 0.11530398,\n",
            "       0.11157699, 0.11809925, 0.12042863, 0.12205918, 0.11646869,\n",
            "       0.11903097, 0.11693453, 0.11763336, 0.11833219, 0.11087816,\n",
            "       0.11087816, 0.10808294, 0.10435594, 0.10156067, 0.09993012,\n",
            "       0.10621944, 0.10901466, 0.10971349, 0.11879803, 0.11833219,\n",
            "       0.11157699, 0.11437225, 0.11693453, 0.12695085, 0.12532029,\n",
            "       0.12252503, 0.12601912, 0.13324017, 0.13487072, 0.13883066])]\n",
            "[0.13766598859451706]\n",
            "\n",
            "[array([0.08176099, 0.09014675, 0.08851619, 0.08688564, 0.08968086,\n",
            "       0.08641976, 0.09201025, 0.09387374, 0.0917773 , 0.09760074,\n",
            "       0.10295833, 0.10878176, 0.11180993, 0.10971349, 0.10948055,\n",
            "       0.10971349, 0.10971349, 0.10342417, 0.10342417, 0.10552061,\n",
            "       0.10901466, 0.10901466, 0.11576987, 0.11809925, 0.11833219,\n",
            "       0.12368974, 0.11367343, 0.11134404, 0.11437225, 0.11530398,\n",
            "       0.11157699, 0.11809925, 0.12042863, 0.12205918, 0.11646869,\n",
            "       0.11903097, 0.11693453, 0.11763336, 0.11833219, 0.11087816,\n",
            "       0.11087816, 0.10808294, 0.10435594, 0.10156067, 0.09993012,\n",
            "       0.10621944, 0.10901466, 0.10971349, 0.11879803, 0.11833219,\n",
            "       0.11157699, 0.11437225, 0.11693453, 0.12695085, 0.12532029,\n",
            "       0.12252503, 0.12601912, 0.13324017, 0.13487072, 0.13883066]), array([0.09014675, 0.08851619, 0.08688564, 0.08968086, 0.08641976,\n",
            "       0.09201025, 0.09387374, 0.0917773 , 0.09760074, 0.10295833,\n",
            "       0.10878176, 0.11180993, 0.10971349, 0.10948055, 0.10971349,\n",
            "       0.10971349, 0.10342417, 0.10342417, 0.10552061, 0.10901466,\n",
            "       0.10901466, 0.11576987, 0.11809925, 0.11833219, 0.12368974,\n",
            "       0.11367343, 0.11134404, 0.11437225, 0.11530398, 0.11157699,\n",
            "       0.11809925, 0.12042863, 0.12205918, 0.11646869, 0.11903097,\n",
            "       0.11693453, 0.11763336, 0.11833219, 0.11087816, 0.11087816,\n",
            "       0.10808294, 0.10435594, 0.10156067, 0.09993012, 0.10621944,\n",
            "       0.10901466, 0.10971349, 0.11879803, 0.11833219, 0.11157699,\n",
            "       0.11437225, 0.11693453, 0.12695085, 0.12532029, 0.12252503,\n",
            "       0.12601912, 0.13324017, 0.13487072, 0.13883066, 0.13766599])]\n",
            "[0.13766598859451706, 0.1404612118346164]\n",
            "\n"
          ],
          "name": "stdout"
        }
      ]
    },
    {
      "cell_type": "code",
      "metadata": {
        "id": "bj7Ux1LisUVg",
        "colab_type": "code",
        "colab": {}
      },
      "source": [
        "#Convert the x_train and y_train to numpy arrays\n",
        "x_train, y_train = np.array(x_train), np.array(y_train)"
      ],
      "execution_count": 0,
      "outputs": []
    },
    {
      "cell_type": "code",
      "metadata": {
        "id": "EN-YVezGsnn1",
        "colab_type": "code",
        "colab": {
          "base_uri": "https://localhost:8080/",
          "height": 34
        },
        "outputId": "2935a18e-e3f5-414b-8ebd-fa1fbe96a6cf"
      },
      "source": [
        "#Reshape the data\n",
        "x_train = np.reshape(x_train, (x_train.shape[0], x_train.shape[1], 1))\n",
        "x_train.shape"
      ],
      "execution_count": 99,
      "outputs": [
        {
          "output_type": "execute_result",
          "data": {
            "text/plain": [
              "(1584, 60, 1)"
            ]
          },
          "metadata": {
            "tags": []
          },
          "execution_count": 99
        }
      ]
    },
    {
      "cell_type": "code",
      "metadata": {
        "id": "Qp8FaaYWztPQ",
        "colab_type": "code",
        "colab": {}
      },
      "source": [
        "#Build the LSTM model\n",
        "model = Sequential()\n",
        "model.add(LSTM(50, return_sequences=True, input_shape= (x_train.shape[1], 1)))\n",
        "model.add(LSTM(50, return_sequences= False))\n",
        "model.add(Dense(25))\n",
        "model.add(Dense(1))"
      ],
      "execution_count": 0,
      "outputs": []
    },
    {
      "cell_type": "code",
      "metadata": {
        "id": "eLWRYzFg1Yff",
        "colab_type": "code",
        "colab": {}
      },
      "source": [
        "#Compile the model\n",
        "model.compile(optimizer='adam', loss='mean_squared_error')\n"
      ],
      "execution_count": 0,
      "outputs": []
    },
    {
      "cell_type": "code",
      "metadata": {
        "id": "Lwawq5BE1vwj",
        "colab_type": "code",
        "colab": {
          "base_uri": "https://localhost:8080/",
          "height": 68
        },
        "outputId": "111a5035-9fdf-44f0-c15f-303a96eb5e8c"
      },
      "source": [
        "#train the model\n",
        "model.fit(x_train, y_train, batch_size=1, epochs=1)"
      ],
      "execution_count": 103,
      "outputs": [
        {
          "output_type": "stream",
          "text": [
            "Epoch 1/1\n",
            "1584/1584 [==============================] - 108s 68ms/step - loss: 8.4209e-04\n"
          ],
          "name": "stdout"
        },
        {
          "output_type": "execute_result",
          "data": {
            "text/plain": [
              "<keras.callbacks.History at 0x7fd5bcdb7a58>"
            ]
          },
          "metadata": {
            "tags": []
          },
          "execution_count": 103
        }
      ]
    },
    {
      "cell_type": "code",
      "metadata": {
        "id": "XUFEg9lv2sif",
        "colab_type": "code",
        "colab": {}
      },
      "source": [
        "#Create the tetsing data set\n",
        "#Create a new array containing scaled values from index 1543 to 2003\n",
        "test_data = scaled_data[training_data_len - 60: , :]\n",
        "#Create the data sets x_test and y_test\n",
        "x_test = []\n",
        "y_test = dataset[training_data_len:, :]\n",
        "for i in range(60, len(test_data)):\n",
        "  x_test.append(test_data[i-60:i, 0])\n"
      ],
      "execution_count": 0,
      "outputs": []
    },
    {
      "cell_type": "code",
      "metadata": {
        "id": "Aac3YB-h7PlI",
        "colab_type": "code",
        "colab": {}
      },
      "source": [
        "#Convert the data to a numpy array\n",
        "x_test = np.array(x_test)"
      ],
      "execution_count": 0,
      "outputs": []
    },
    {
      "cell_type": "code",
      "metadata": {
        "id": "Iz5kHGWI7aa6",
        "colab_type": "code",
        "colab": {}
      },
      "source": [
        "#Reshape the data\n",
        "x_test = np.reshape(x_test, (x_test.shape[0], x_test.shape[1], 1))"
      ],
      "execution_count": 0,
      "outputs": []
    },
    {
      "cell_type": "code",
      "metadata": {
        "id": "bJfKAbYS8JT0",
        "colab_type": "code",
        "colab": {}
      },
      "source": [
        "#Get the models predicted price values\n",
        "predictions = model.predict(x_test)\n",
        "predictions = scaler.inverse_transform(predictions)"
      ],
      "execution_count": 0,
      "outputs": []
    },
    {
      "cell_type": "code",
      "metadata": {
        "id": "Q0EnZEFa8dxO",
        "colab_type": "code",
        "colab": {
          "base_uri": "https://localhost:8080/",
          "height": 34
        },
        "outputId": "934f7cd8-188f-41d9-8975-e3639d3ea798"
      },
      "source": [
        "#Get the root mean squared error (RMSE)\n",
        "rmse = np.sqrt( np.mean( predictions - y_test )**2 )\n",
        "rmse"
      ],
      "execution_count": 108,
      "outputs": [
        {
          "output_type": "execute_result",
          "data": {
            "text/plain": [
              "1.6835423119166761"
            ]
          },
          "metadata": {
            "tags": []
          },
          "execution_count": 108
        }
      ]
    },
    {
      "cell_type": "code",
      "metadata": {
        "id": "JpAV0Wey89ue",
        "colab_type": "code",
        "colab": {
          "base_uri": "https://localhost:8080/",
          "height": 680
        },
        "outputId": "64ae00c0-36d5-4347-b7cc-72a25864d30f"
      },
      "source": [
        "#Plot the data\n",
        "train = data[:training_data_len]\n",
        "valid = data[training_data_len:]\n",
        "valid['Predictions'] = predictions\n",
        "#Visualize the data\n",
        "plt.figure(figsize=(16,8))\n",
        "plt.title('Model')\n",
        "plt.xlabel('Date', fontsize=18)\n",
        "plt.ylabel('Close Price USD ($)', fontsize=18)\n",
        "plt.plot(train['Close'])\n",
        "plt.plot(valid[['Close', 'Predictions']])\n",
        "plt.legend(['Train', 'Val', 'Predictions',], loc='lower right')\n",
        "plt.show()"
      ],
      "execution_count": 109,
      "outputs": [
        {
          "output_type": "stream",
          "text": [
            "/usr/local/lib/python3.6/dist-packages/ipykernel_launcher.py:3: SettingWithCopyWarning: \n",
            "A value is trying to be set on a copy of a slice from a DataFrame.\n",
            "Try using .loc[row_indexer,col_indexer] = value instead\n",
            "\n",
            "See the caveats in the documentation: http://pandas.pydata.org/pandas-docs/stable/user_guide/indexing.html#returning-a-view-versus-a-copy\n",
            "  This is separate from the ipykernel package so we can avoid doing imports until\n"
          ],
          "name": "stderr"
        },
        {
          "output_type": "display_data",
          "data": {
            "image/png": "[encoded data removed]",
            "text/plain": [
              "<Figure size 1152x576 with 1 Axes>"
            ]
          },
          "metadata": {
            "tags": []
          }
        }
      ]
    },
    {
      "cell_type": "code",
      "metadata": {
        "id": "OoW3gksNAcwD",
        "colab_type": "code",
        "colab": {
          "base_uri": "https://localhost:8080/",
          "height": 450
        },
        "outputId": "b044b89d-dc13-4119-a55a-d21b7454f233"
      },
      "source": [
        "#Show the valid and predicted prices\n",
        "valid"
      ],
      "execution_count": 110,
      "outputs": [
        {
          "output_type": "execute_result",
          "data": {
            "text/html": [
              "<div>\n",
              "<style scoped>\n",
              "    .dataframe tbody tr th:only-of-type {\n",
              "        vertical-align: middle;\n",
              "    }\n",
              "\n",
              "    .dataframe tbody tr th {\n",
              "        vertical-align: top;\n",
              "    }\n",
              "\n",
              "    .dataframe thead th {\n",
              "        text-align: right;\n",
              "    }\n",
              "</style>\n",
              "<table border=\"1\" class=\"dataframe\">\n",
              "  <thead>\n",
              "    <tr style=\"text-align: right;\">\n",
              "      <th></th>\n",
              "      <th>Close</th>\n",
              "      <th>Predictions</th>\n",
              "    </tr>\n",
              "    <tr>\n",
              "      <th>Date</th>\n",
              "      <th></th>\n",
              "      <th></th>\n",
              "    </tr>\n",
              "  </thead>\n",
              "  <tbody>\n",
              "    <tr>\n",
              "      <th>2018-07-17</th>\n",
              "      <td>42.340000</td>\n",
              "      <td>41.319481</td>\n",
              "    </tr>\n",
              "    <tr>\n",
              "      <th>2018-07-18</th>\n",
              "      <td>42.209999</td>\n",
              "      <td>41.229572</td>\n",
              "    </tr>\n",
              "    <tr>\n",
              "      <th>2018-07-19</th>\n",
              "      <td>42.400002</td>\n",
              "      <td>41.130974</td>\n",
              "    </tr>\n",
              "    <tr>\n",
              "      <th>2018-07-20</th>\n",
              "      <td>42.009998</td>\n",
              "      <td>41.076145</td>\n",
              "    </tr>\n",
              "    <tr>\n",
              "      <th>2018-07-23</th>\n",
              "      <td>42.060001</td>\n",
              "      <td>40.985100</td>\n",
              "    </tr>\n",
              "    <tr>\n",
              "      <th>...</th>\n",
              "      <td>...</td>\n",
              "      <td>...</td>\n",
              "    </tr>\n",
              "    <tr>\n",
              "      <th>2020-02-27</th>\n",
              "      <td>40.040001</td>\n",
              "      <td>42.906273</td>\n",
              "    </tr>\n",
              "    <tr>\n",
              "      <th>2020-02-28</th>\n",
              "      <td>39.930000</td>\n",
              "      <td>41.804951</td>\n",
              "    </tr>\n",
              "    <tr>\n",
              "      <th>2020-03-02</th>\n",
              "      <td>41.169998</td>\n",
              "      <td>40.791893</td>\n",
              "    </tr>\n",
              "    <tr>\n",
              "      <th>2020-03-03</th>\n",
              "      <td>40.040001</td>\n",
              "      <td>40.197681</td>\n",
              "    </tr>\n",
              "    <tr>\n",
              "      <th>2020-03-04</th>\n",
              "      <td>41.389999</td>\n",
              "      <td>39.711014</td>\n",
              "    </tr>\n",
              "  </tbody>\n",
              "</table>\n",
              "<p>411 rows × 2 columns</p>\n",
              "</div>"
            ],
            "text/plain": [
              "                Close  Predictions\n",
              "Date                              \n",
              "2018-07-17  42.340000    41.319481\n",
              "2018-07-18  42.209999    41.229572\n",
              "2018-07-19  42.400002    41.130974\n",
              "2018-07-20  42.009998    41.076145\n",
              "2018-07-23  42.060001    40.985100\n",
              "...               ...          ...\n",
              "2020-02-27  40.040001    42.906273\n",
              "2020-02-28  39.930000    41.804951\n",
              "2020-03-02  41.169998    40.791893\n",
              "2020-03-03  40.040001    40.197681\n",
              "2020-03-04  41.389999    39.711014\n",
              "\n",
              "[411 rows x 2 columns]"
            ]
          },
          "metadata": {
            "tags": []
          },
          "execution_count": 110
        }
      ]
    },
    {
      "cell_type": "code",
      "metadata": {
        "id": "IP4ezG_HA5TB",
        "colab_type": "code",
        "colab": {
          "base_uri": "https://localhost:8080/",
          "height": 34
        },
        "outputId": "6bc2691a-9c3d-40f6-f372-86c98acc6bb1"
      },
      "source": [
        "#Get the quote\n",
        "apple_quote = web.DataReader('CSCO', data_source='yahoo', start='2012-02-01', end='2020-03-03')\n",
        "#Create a new dataframe\n",
        "new_df = apple_quote.filter(['Close'])\n",
        "#Get the last 60 day closing price values and convert the dataframe to an array\n",
        "last_60_days = new_df[-60:].values\n",
        "#Scale the data to be values between 0 and 1\n",
        "last_60_days_scaled = scaler.transform(last_60_days)\n",
        "#Create an empty list\n",
        "X_test = []\n",
        "#Append the last 60 days\n",
        "X_test.append(last_60_days_scaled)\n",
        "#Convert the. X_test data set to a numpy array\n",
        "X_test = np.array(X_test)\n",
        "#Reshape the data\n",
        "X_test = np.reshape(X_test, (X_test.shape[0], X_test.shape[1], 1))\n",
        "#Get the predicted scaled price\n",
        "pred_price = model.predict(X_test)\n",
        "#undo the scaling\n",
        "pred_price = scaler.inverse_transform(pred_price)\n",
        "print(pred_price)\n"
      ],
      "execution_count": 111,
      "outputs": [
        {
          "output_type": "stream",
          "text": [
            "[[39.711014]]\n"
          ],
          "name": "stdout"
        }
      ]
    },
    {
      "cell_type": "code",
      "metadata": {
        "id": "IOWa6zgoRHoS",
        "colab_type": "code",
        "colab": {
          "base_uri": "https://localhost:8080/",
          "height": 68
        },
        "outputId": "c957017c-ac1c-44fa-93f4-c6ddc8575b6a"
      },
      "source": [
        "#Get the quote\n",
        "apple_quote2 = web.DataReader('CSCO', data_source='yahoo', start='2020-03-04', end='2020-03-04')\n",
        "print(apple_quote2['Close'])"
      ],
      "execution_count": 112,
      "outputs": [
        {
          "output_type": "stream",
          "text": [
            "Date\n",
            "2020-03-04    41.389999\n",
            "Name: Close, dtype: float64\n"
          ],
          "name": "stdout"
        }
      ]
    }
  ]
}